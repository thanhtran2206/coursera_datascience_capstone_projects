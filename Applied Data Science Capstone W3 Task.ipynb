{
    "cells": [
        {
            "metadata": {
                "collapsed": true
            },
            "cell_type": "markdown",
            "source": "# Applied Data Science Capstone Week 3 Assignment\n\n## Segmenting and Clustering Neighborhoods in Toronto"
        },
        {
            "metadata": {},
            "cell_type": "markdown",
            "source": "1. Firstly, import some required library"
        },
        {
            "metadata": {},
            "cell_type": "code",
            "source": "import numpy as np # library to handle data in a vectorized manner\nimport pandas as pd # library for data analsysis",
            "execution_count": 63,
            "outputs": []
        },
        {
            "metadata": {},
            "cell_type": "markdown",
            "source": "2. Parsing table from HTML and create data frame"
        },
        {
            "metadata": {},
            "cell_type": "code",
            "source": "html_data = pd.read_html(canadaPostalCodeHtmlURL)\ncanadaPostalCodeDF = html_data[0]\n#canadaPostalCodeDF",
            "execution_count": 64,
            "outputs": []
        },
        {
            "metadata": {},
            "cell_type": "markdown",
            "source": "3. Remove row having Borough value as 'Not assigned'"
        },
        {
            "metadata": {},
            "cell_type": "code",
            "source": "boroughNotAssignedIndexes = canadaPostalCodeDF[canadaPostalCodeDF['Borough'] == \"Not assigned\"].index\ncanadaPostalCodeDF.drop(boroughNotAssignedIndexes , inplace=True)\n#canadaPostalCodeDF",
            "execution_count": 65,
            "outputs": []
        },
        {
            "metadata": {},
            "cell_type": "markdown",
            "source": "4. As more than one neighborhood can exist in one postal code area, merge neighborhood value based on the postal code area"
        },
        {
            "metadata": {},
            "cell_type": "code",
            "source": "canadaPostalCodeDF = canadaPostalCodeDF.groupby(['Postcode'], as_index = False).agg({'Neighbourhood': ', '.join})\n#canadaPostalCodeDF",
            "execution_count": 66,
            "outputs": []
        },
        {
            "metadata": {},
            "cell_type": "markdown",
            "source": "5. If Neighbourhood is 'Not assigned' while Borough has value, copy Borough value to Neighborhood"
        },
        {
            "metadata": {},
            "cell_type": "code",
            "source": "neighbourhoodNotAssignedIndexes = canadaPostalCodeDF[canadaPostalCodeDF['Neighbourhood'] == \"Not assigned\"].index\nif (len(neighbourhoodNotAssignedIndexes) > 0):\n    for idx in neighbourhoodNotAssignedIndexes:\n        canadaPostalCodeDF.iloc[idx,2] = canadaPostalCodeDF.iloc[idx,1]",
            "execution_count": 67,
            "outputs": []
        },
        {
            "metadata": {},
            "cell_type": "markdown",
            "source": "6. Now use .shape method for printing the number of rows of the dataframe"
        },
        {
            "metadata": {},
            "cell_type": "code",
            "source": "canadaPostalCodeDF.shape",
            "execution_count": 68,
            "outputs": [
                {
                    "output_type": "execute_result",
                    "execution_count": 68,
                    "data": {
                        "text/plain": "(103, 2)"
                    },
                    "metadata": {}
                }
            ]
        },
        {
            "metadata": {},
            "cell_type": "code",
            "source": "",
            "execution_count": null,
            "outputs": []
        }
    ],
    "metadata": {
        "kernelspec": {
            "name": "python3",
            "display_name": "Python 3.6",
            "language": "python"
        },
        "language_info": {
            "name": "python",
            "version": "3.6.9",
            "mimetype": "text/x-python",
            "codemirror_mode": {
                "name": "ipython",
                "version": 3
            },
            "pygments_lexer": "ipython3",
            "nbconvert_exporter": "python",
            "file_extension": ".py"
        }
    },
    "nbformat": 4,
    "nbformat_minor": 1
}