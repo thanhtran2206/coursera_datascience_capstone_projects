{
    "cells": [
        {
            "metadata": {
                "collapsed": true
            },
            "cell_type": "markdown",
            "source": "# Applied Data Science Capstone\n\n"
        },
        {
            "metadata": {},
            "cell_type": "markdown",
            "source": "## BUSSINESS PROBLEM AND SOLUTION"
        },
        {
            "metadata": {},
            "cell_type": "markdown",
            "source": "We are company XYZ, located in Vietnam, and we are professional in business consulting and investment. In the early of this year, there is a businessperson named Tom, who lives in the US and has a chain of restaurants in California. His father is Vietnamese and now living in Ho Chi Minh City. This Tet holiday Tom traveled to Vietnam for visiting his father, and he would like to open a caf\u00e9 shop for his father in Ho Chi Minh. As Tom always has a serious mindset, he would like to set-up a caf\u00e9 shop in the right place, where the shop will be successful and famous in one or two years. He has come to our company and requested for consulting service regarding to caf\u00e9 shop in Ho Chi Minh City. We, as a reputational company, have to work seriously to help our customer successful. We always understand that, our success is our customer success. Therefore, our works are:\n*  Doing data collection and analysis for caf\u00e9 shop located in Ho Chi Minh city, Vietnam. \n*  Doing data collection and analysis for population in Districts in Ho Chi Minh city, Vietnam. \n*  Consulting our customer to choose the right place for setting up caf\u00e9 shop. The criteria for the right place are:\n    *  Located in district having crowd population\n    *  Having many caf\u00e9 shop nearby (as Vietnamese business culture)\n\n\nIn order to do the following tasks above, we need to:\n*   Use foursquare API to explore the caf\u00e9 shop in Ho Chi Minh city\n*   Do analysis for district population in Ho Chi Minh City. We contacted Ho Chi Minh administration office and we have the district population in 2019.\n![](https://drive.google.com/file/d/1Da5BwiQXq0j6RIlrciJ4ntMoKRuE_Plj/view?usp=sharing)\n\n*\tAfter having enough data and information, we can summarize and provide good explanation regarding to the location where are the good for our customer to set-up caf\u00e9 shop.\n\n\n"
        },
        {
            "metadata": {},
            "cell_type": "code",
            "source": "",
            "execution_count": null,
            "outputs": []
        },
        {
            "metadata": {},
            "cell_type": "code",
            "source": "",
            "execution_count": null,
            "outputs": []
        }
    ],
    "metadata": {
        "kernelspec": {
            "name": "python3",
            "display_name": "Python 3.6",
            "language": "python"
        },
        "language_info": {
            "name": "python",
            "version": "3.6.9",
            "mimetype": "text/x-python",
            "codemirror_mode": {
                "name": "ipython",
                "version": 3
            },
            "pygments_lexer": "ipython3",
            "nbconvert_exporter": "python",
            "file_extension": ".py"
        }
    },
    "nbformat": 4,
    "nbformat_minor": 1
}