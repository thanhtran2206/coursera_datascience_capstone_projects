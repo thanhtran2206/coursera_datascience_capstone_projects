{
    "cells": [
        {
            "metadata": {
                "collapsed": true
            },
            "cell_type": "markdown",
            "source": "# Applied Data Science Capstone\n\n"
        },
        {
            "metadata": {},
            "cell_type": "markdown",
            "source": "## BUSSINESS PROBLEM AND SOLUTION"
        },
        {
            "metadata": {},
            "cell_type": "markdown",
            "source": "We are company XYZ, located in Vietnam, and we are professional in business consulting and investment. In the early of this year, there is a businessperson named Tom, who lives in the US and has a chain of restaurants in California. His father is Vietnamese and now living in Ho Chi Minh City. This Tet holiday Tom traveled to Vietnam for visiting his father, and he would like to open a caf\u00e9 shop for his father in Ho Chi Minh. As Tom always has a serious mindset, he would like to set-up a caf\u00e9 shop in the right place, where the shop will be successful and famous in one or two years. He has come to our company and requested for consulting service regarding to caf\u00e9 shop in Ho Chi Minh City. We, as a reputational company, have to work seriously to help our customer successful. We always understand that, our success is our customer success. Therefore, our works are:\n*  Doing data collection and analysis for caf\u00e9 shop located in Ho Chi Minh city, Vietnam. \n*  Doing data collection and analysis for population in Districts in Ho Chi Minh city, Vietnam. \n*  Consulting our customer to choose the right place for setting up caf\u00e9 shop. The criteria for the right place are:\n    *  Located in district having crowd population\n    *  Having many caf\u00e9 shop nearby (as Vietnamese business culture)\n\n\nIn order to do the following tasks above, we need to:\n*   Use foursquare API to explore the caf\u00e9 shop in Ho Chi Minh city. We only focus on districts where are high density of population - District 1, District 2, District 3, District 5, District 7, District 10, District 11, District 12, Tan Binh District, Tan Phu District. We can use the page https://www.latlong.net/ to determine the latitude and longtitude of each district.\n*   Do analysis for district population in Ho Chi Minh City. We contacted Ho Chi Minh administration office and we have the district population statistic in 2019. This is the URL for district population: \n    > https://image.thanhnien.vn/980/uploaded/hoangnam/2019_10_11/tphcm_ccif.jpg\n\n| District                     | Population in 2019 |\n| ---------------------------- |:------------------:|\n| District 1                   | 142000             |\n| District 2                   | 180000             |\n| District 3                   | 190000             |\n| District 4                   | 175000             |\n| District 5                   | 159000             |\n| District 6                   | 233000             |\n| District 7                   | 360000             |\n| District 8                   | 424000             |\n| District 9                   | 397000             |\n| District 10                  | 234000             |\n| District 11                  | 209000             |\n| District 12                  | 620000             |\n| Go Vap District              | 676000             |\n| Tan Binh District            | 474000             |\n| Tan Phu District             | 485000             |\n| Binh Thanh District          | 499000             |\n| Phu Nhuan District           | 163000             |\n| Thu Duc District             | 592000             |\n| Binh Tan District            | 784000             |\n| Cu Chi District              | 462000             |\n| Hoc Mon District             | 542000             |\n| Binh Chanh District          | 705000             |\n| Nha Be District              | 206000             |\n| Can Gio District             | 71000              |\n\n\n*\tAfter having enough data and information, we can summarize and provide good explanation regarding to the location where are the good for our customer to set-up caf\u00e9 shop.\n\n\n",
            "attachments": {}
        },
        {
            "metadata": {},
            "cell_type": "markdown",
            "source": "## Data Preprocessing"
        },
        {
            "metadata": {},
            "cell_type": "markdown",
            "source": "### 1. Collect total cafe shops in high density of population district in Ho Chi Minh city - District 1, District 2, District 3, District 5, District 7, District 10, District 11, District 12, Tan Binh District, Tan Phu District"
        },
        {
            "metadata": {},
            "cell_type": "code",
            "source": "# Load the Pandas libraries with alias 'pd' \nimport pandas as pd \n\n#Foursquare API URL for retrieving cafe shop in district\n##District 1\nfqDistrict1URL = 'https://api.foursquare.com/v2/venues/explore?client_id=E5YCO5N3ZXE5UB5LUQVSUGGQ4NV5FZ0YVUKEVS53A5AWBHUG&client_secret=Q5T1TDZIS3CHH0PAQWF4VUO5JXHHRM25KGGEZPZ0WUPAE1FZ&v=20170511&section=coffee&ll=10.775659,106.700424'\n##District 2\nfqDistrict2URL = 'https://api.foursquare.com/v2/venues/explore?client_id=E5YCO5N3ZXE5UB5LUQVSUGGQ4NV5FZ0YVUKEVS53A5AWBHUG&client_secret=Q5T1TDZIS3CHH0PAQWF4VUO5JXHHRM25KGGEZPZ0WUPAE1FZ&v=20170511&section=coffee&ll=10.790942,106.736619'\n##District 3\nfqDistrict3URL = 'https://api.foursquare.com/v2/venues/explore?client_id=E5YCO5N3ZXE5UB5LUQVSUGGQ4NV5FZ0YVUKEVS53A5AWBHUG&client_secret=Q5T1TDZIS3CHH0PAQWF4VUO5JXHHRM25KGGEZPZ0WUPAE1FZ&v=20170511&section=coffee&ll=10.783143,106.686902'\n##District 5\nfqDistrict5URL = 'https://api.foursquare.com/v2/venues/explore?client_id=E5YCO5N3ZXE5UB5LUQVSUGGQ4NV5FZ0YVUKEVS53A5AWBHUG&client_secret=Q5T1TDZIS3CHH0PAQWF4VUO5JXHHRM25KGGEZPZ0WUPAE1FZ&v=20170511&section=coffee&ll=10.756034,106.670229'\n##District 7\nfqDistrict7URL = 'https://api.foursquare.com/v2/venues/explore?client_id=E5YCO5N3ZXE5UB5LUQVSUGGQ4NV5FZ0YVUKEVS53A5AWBHUG&client_secret=Q5T1TDZIS3CHH0PAQWF4VUO5JXHHRM25KGGEZPZ0WUPAE1FZ&v=20170511&section=coffee&ll=10.736471,106.722243'\n##District 10\nfqDistrict10URL = 'https://api.foursquare.com/v2/venues/explore?client_id=E5YCO5N3ZXE5UB5LUQVSUGGQ4NV5FZ0YVUKEVS53A5AWBHUG&client_secret=Q5T1TDZIS3CHH0PAQWF4VUO5JXHHRM25KGGEZPZ0WUPAE1FZ&v=20170511&section=coffee&ll=10.773193,106.667655'\n##District 11\nfqDistrict11URL = 'https://api.foursquare.com/v2/venues/explore?client_id=E5YCO5N3ZXE5UB5LUQVSUGGQ4NV5FZ0YVUKEVS53A5AWBHUG&client_secret=Q5T1TDZIS3CHH0PAQWF4VUO5JXHHRM25KGGEZPZ0WUPAE1FZ&v=20170511&section=coffee&ll=10.764045,106.643236'\n##District 12\nfqDistrict12URL = 'https://api.foursquare.com/v2/venues/explore?client_id=E5YCO5N3ZXE5UB5LUQVSUGGQ4NV5FZ0YVUKEVS53A5AWBHUG&client_secret=Q5T1TDZIS3CHH0PAQWF4VUO5JXHHRM25KGGEZPZ0WUPAE1FZ&v=20170511&section=coffee&ll=10.867235,106.653836'\n##Tan Binh District \nfqDistrictTanBinhURL = 'https://api.foursquare.com/v2/venues/explore?client_id=E5YCO5N3ZXE5UB5LUQVSUGGQ4NV5FZ0YVUKEVS53A5AWBHUG&client_secret=Q5T1TDZIS3CHH0PAQWF4VUO5JXHHRM25KGGEZPZ0WUPAE1FZ&v=20170511&section=coffee&ll=10.798235,106.653814'\n##Tan Phu District \nfqDistrictTanPhuURL = 'https://api.foursquare.com/v2/venues/explore?client_id=E5YCO5N3ZXE5UB5LUQVSUGGQ4NV5FZ0YVUKEVS53A5AWBHUG&client_secret=Q5T1TDZIS3CHH0PAQWF4VUO5JXHHRM25KGGEZPZ0WUPAE1FZ&v=20170511&section=coffee&ll=10.791616,106.627357'\n\nlistOfDistrict = ['District 1', 'District 2', 'District 3', 'District 5', 'District 7', 'District 10', 'District 11', 'District 12', 'District Tan Binh', 'District Tan Phu']\nlistOfDistrictURLs = [fqDistrict1URL, fqDistrict2URL, fqDistrict3URL, fqDistrict5URL, fqDistrict7URL, fqDistrict10URL, fqDistrict11URL, fqDistrict12URL, fqDistrictTanBinhURL, fqDistrictTanPhuURL]\nlistOfDistrictTotalShops = []\ncafeShopDF = pd.DataFrame(columns = ['District','Total Of Cafe Shop'])\n\ndef getTotalOfCafeShops(foursquareAPIURL):\n    df = pd.read_json(foursquareAPIURL)\n    totalShops = df.loc['totalResults'][1]\n    return totalShops\n\nfor districtURL in listOfDistrictURLs:\n    listOfDistrictTotalShops.append(getTotalOfCafeShops(districtURL))\n    \nfor idx in range(0,len(listOfDistrict)):\n    cafeShopDF.at[idx, 'District'] = listOfDistrict[idx]\n    cafeShopDF.at[idx, 'Total Of Cafe Shop'] = listOfDistrictTotalShops[idx]\n    \ncafeShopDF",
            "execution_count": 65,
            "outputs": [
                {
                    "output_type": "execute_result",
                    "execution_count": 65,
                    "data": {
                        "text/plain": "            District Total Of Cafe Shop\n0         District 1                112\n1         District 2                 44\n2         District 3                 58\n3         District 5                 20\n4         District 7                 24\n5        District 10                 37\n6        District 11                 25\n7        District 12                 25\n8  District Tan Binh                 24\n9   District Tan Phu                 41",
                        "text/html": "<div>\n<style scoped>\n    .dataframe tbody tr th:only-of-type {\n        vertical-align: middle;\n    }\n\n    .dataframe tbody tr th {\n        vertical-align: top;\n    }\n\n    .dataframe thead th {\n        text-align: right;\n    }\n</style>\n<table border=\"1\" class=\"dataframe\">\n  <thead>\n    <tr style=\"text-align: right;\">\n      <th></th>\n      <th>District</th>\n      <th>Total Of Cafe Shop</th>\n    </tr>\n  </thead>\n  <tbody>\n    <tr>\n      <th>0</th>\n      <td>District 1</td>\n      <td>112</td>\n    </tr>\n    <tr>\n      <th>1</th>\n      <td>District 2</td>\n      <td>44</td>\n    </tr>\n    <tr>\n      <th>2</th>\n      <td>District 3</td>\n      <td>58</td>\n    </tr>\n    <tr>\n      <th>3</th>\n      <td>District 5</td>\n      <td>20</td>\n    </tr>\n    <tr>\n      <th>4</th>\n      <td>District 7</td>\n      <td>24</td>\n    </tr>\n    <tr>\n      <th>5</th>\n      <td>District 10</td>\n      <td>37</td>\n    </tr>\n    <tr>\n      <th>6</th>\n      <td>District 11</td>\n      <td>25</td>\n    </tr>\n    <tr>\n      <th>7</th>\n      <td>District 12</td>\n      <td>25</td>\n    </tr>\n    <tr>\n      <th>8</th>\n      <td>District Tan Binh</td>\n      <td>24</td>\n    </tr>\n    <tr>\n      <th>9</th>\n      <td>District Tan Phu</td>\n      <td>41</td>\n    </tr>\n  </tbody>\n</table>\n</div>"
                    },
                    "metadata": {}
                }
            ]
        },
        {
            "metadata": {},
            "cell_type": "markdown",
            "source": "### 2. Prepare population number for districts"
        },
        {
            "metadata": {},
            "cell_type": "code",
            "source": "cafeShopDF.insert(2, \"Population\", [0,0,0,0,0,0,0,0,0,0], True) \ncafeShopDF",
            "execution_count": 66,
            "outputs": [
                {
                    "output_type": "execute_result",
                    "execution_count": 66,
                    "data": {
                        "text/plain": "            District Total Of Cafe Shop  Population\n0         District 1                112           0\n1         District 2                 44           0\n2         District 3                 58           0\n3         District 5                 20           0\n4         District 7                 24           0\n5        District 10                 37           0\n6        District 11                 25           0\n7        District 12                 25           0\n8  District Tan Binh                 24           0\n9   District Tan Phu                 41           0",
                        "text/html": "<div>\n<style scoped>\n    .dataframe tbody tr th:only-of-type {\n        vertical-align: middle;\n    }\n\n    .dataframe tbody tr th {\n        vertical-align: top;\n    }\n\n    .dataframe thead th {\n        text-align: right;\n    }\n</style>\n<table border=\"1\" class=\"dataframe\">\n  <thead>\n    <tr style=\"text-align: right;\">\n      <th></th>\n      <th>District</th>\n      <th>Total Of Cafe Shop</th>\n      <th>Population</th>\n    </tr>\n  </thead>\n  <tbody>\n    <tr>\n      <th>0</th>\n      <td>District 1</td>\n      <td>112</td>\n      <td>0</td>\n    </tr>\n    <tr>\n      <th>1</th>\n      <td>District 2</td>\n      <td>44</td>\n      <td>0</td>\n    </tr>\n    <tr>\n      <th>2</th>\n      <td>District 3</td>\n      <td>58</td>\n      <td>0</td>\n    </tr>\n    <tr>\n      <th>3</th>\n      <td>District 5</td>\n      <td>20</td>\n      <td>0</td>\n    </tr>\n    <tr>\n      <th>4</th>\n      <td>District 7</td>\n      <td>24</td>\n      <td>0</td>\n    </tr>\n    <tr>\n      <th>5</th>\n      <td>District 10</td>\n      <td>37</td>\n      <td>0</td>\n    </tr>\n    <tr>\n      <th>6</th>\n      <td>District 11</td>\n      <td>25</td>\n      <td>0</td>\n    </tr>\n    <tr>\n      <th>7</th>\n      <td>District 12</td>\n      <td>25</td>\n      <td>0</td>\n    </tr>\n    <tr>\n      <th>8</th>\n      <td>District Tan Binh</td>\n      <td>24</td>\n      <td>0</td>\n    </tr>\n    <tr>\n      <th>9</th>\n      <td>District Tan Phu</td>\n      <td>41</td>\n      <td>0</td>\n    </tr>\n  </tbody>\n</table>\n</div>"
                    },
                    "metadata": {}
                }
            ]
        },
        {
            "metadata": {},
            "cell_type": "markdown",
            "source": "#### Based on the number of the district population in the link https://image.thanhnien.vn/980/uploaded/hoangnam/2019_10_11/tphcm_ccif.jpg\n\n\n\n"
        },
        {
            "metadata": {},
            "cell_type": "code",
            "source": "districtPopulation = [142000, 180000, 190000, 159000, 360000, 234000, 209000, 620000, 474000, 485000]\n\nfor idx in range(len(districtPopulation)):\n    cafeShopDF.at[idx, 'Population'] = districtPopulation[idx]\n\ncafeShopDF",
            "execution_count": 71,
            "outputs": [
                {
                    "output_type": "execute_result",
                    "execution_count": 71,
                    "data": {
                        "text/plain": "            District Total Of Cafe Shop  Population\n0         District 1                112      142000\n1         District 2                 44      180000\n2         District 3                 58      190000\n3         District 5                 20      159000\n4         District 7                 24      360000\n5        District 10                 37      234000\n6        District 11                 25      209000\n7        District 12                 25      620000\n8  District Tan Binh                 24      474000\n9   District Tan Phu                 41      485000",
                        "text/html": "<div>\n<style scoped>\n    .dataframe tbody tr th:only-of-type {\n        vertical-align: middle;\n    }\n\n    .dataframe tbody tr th {\n        vertical-align: top;\n    }\n\n    .dataframe thead th {\n        text-align: right;\n    }\n</style>\n<table border=\"1\" class=\"dataframe\">\n  <thead>\n    <tr style=\"text-align: right;\">\n      <th></th>\n      <th>District</th>\n      <th>Total Of Cafe Shop</th>\n      <th>Population</th>\n    </tr>\n  </thead>\n  <tbody>\n    <tr>\n      <th>0</th>\n      <td>District 1</td>\n      <td>112</td>\n      <td>142000</td>\n    </tr>\n    <tr>\n      <th>1</th>\n      <td>District 2</td>\n      <td>44</td>\n      <td>180000</td>\n    </tr>\n    <tr>\n      <th>2</th>\n      <td>District 3</td>\n      <td>58</td>\n      <td>190000</td>\n    </tr>\n    <tr>\n      <th>3</th>\n      <td>District 5</td>\n      <td>20</td>\n      <td>159000</td>\n    </tr>\n    <tr>\n      <th>4</th>\n      <td>District 7</td>\n      <td>24</td>\n      <td>360000</td>\n    </tr>\n    <tr>\n      <th>5</th>\n      <td>District 10</td>\n      <td>37</td>\n      <td>234000</td>\n    </tr>\n    <tr>\n      <th>6</th>\n      <td>District 11</td>\n      <td>25</td>\n      <td>209000</td>\n    </tr>\n    <tr>\n      <th>7</th>\n      <td>District 12</td>\n      <td>25</td>\n      <td>620000</td>\n    </tr>\n    <tr>\n      <th>8</th>\n      <td>District Tan Binh</td>\n      <td>24</td>\n      <td>474000</td>\n    </tr>\n    <tr>\n      <th>9</th>\n      <td>District Tan Phu</td>\n      <td>41</td>\n      <td>485000</td>\n    </tr>\n  </tbody>\n</table>\n</div>"
                    },
                    "metadata": {}
                }
            ]
        },
        {
            "metadata": {},
            "cell_type": "code",
            "source": "",
            "execution_count": null,
            "outputs": []
        }
    ],
    "metadata": {
        "kernelspec": {
            "name": "python3",
            "display_name": "Python 3.6",
            "language": "python"
        },
        "language_info": {
            "name": "python",
            "version": "3.6.9",
            "mimetype": "text/x-python",
            "codemirror_mode": {
                "name": "ipython",
                "version": 3
            },
            "pygments_lexer": "ipython3",
            "nbconvert_exporter": "python",
            "file_extension": ".py"
        }
    },
    "nbformat": 4,
    "nbformat_minor": 1
}